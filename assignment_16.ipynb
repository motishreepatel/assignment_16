{
 "cells": [
  {
   "cell_type": "code",
   "execution_count": 1,
   "metadata": {},
   "outputs": [
    {
     "name": "stdout",
     "output_type": "stream",
     "text": [
      "[1989, 1990, 1991, 1992, 1993, 1994]\n"
     ]
    }
   ],
   "source": [
    "#Q - 1. Create a list called years_list, starting with the year of your birth, and each year thereafter until the year of your fifth birthday. For example, if you were born in 1980. the list would be years_list = [1980, 1981, 1982, 1983, 1984, 1985].\n",
    "#Answer:\n",
    "birth_year = int(input(\"Enter your birth year: \"))\n",
    "year_list = list(range(birth_year , birth_year + 6))\n",
    "print(year_list)"
   ]
  },
  {
   "cell_type": "code",
   "execution_count": 6,
   "metadata": {},
   "outputs": [
    {
     "name": "stdout",
     "output_type": "stream",
     "text": [
      "[1989, 1990, 1991, 1992, 1993, 1994]\n"
     ]
    }
   ],
   "source": [
    "#Anotherway of doing this\n",
    "birth_year = int(input(\"Enter your birth year: \"))\n",
    "li = []\n",
    "for i in range(6):\n",
    "    li.append(birth_year + i)\n",
    "print(li)"
   ]
  },
  {
   "cell_type": "code",
   "execution_count": 7,
   "metadata": {},
   "outputs": [
    {
     "name": "stdout",
     "output_type": "stream",
     "text": [
      "My third birthday was:  1992\n"
     ]
    }
   ],
   "source": [
    "#Q - 2. In which year in years_list was your third birthday? Remember, you were 0 years of age for your first year.\n",
    "#Answer:\n",
    "year_list = [1989, 1990, 1991, 1992, 1993, 1994]\n",
    "print(\"My third birthday was: \",year_list[3] )"
   ]
  },
  {
   "cell_type": "code",
   "execution_count": 9,
   "metadata": {},
   "outputs": [
    {
     "name": "stdout",
     "output_type": "stream",
     "text": [
      "The year when i was oldest:  1994\n"
     ]
    }
   ],
   "source": [
    "#Q - 3.In the years list, which year were you the oldest?\n",
    "#Answer:\n",
    "year_list = [1989, 1990, 1991, 1992, 1993, 1994]\n",
    "print(\"The year when i was oldest: \", year_list[-1])"
   ]
  },
  {
   "cell_type": "code",
   "execution_count": 10,
   "metadata": {},
   "outputs": [
    {
     "name": "stdout",
     "output_type": "stream",
     "text": [
      "['mozzarella', 'cinderella', 'salmonella']\n"
     ]
    }
   ],
   "source": [
    "#Q - 4. Make a list called things with these three strings as elements: \"mozzarella\", \"cinderella\",\"salmonella\".\n",
    "#Answer:\n",
    "things = [\"mozzarella\", \"cinderella\", \"salmonella\"]\n",
    "print(things)"
   ]
  },
  {
   "cell_type": "code",
   "execution_count": 16,
   "metadata": {},
   "outputs": [
    {
     "name": "stdout",
     "output_type": "stream",
     "text": [
      "['mozzarella', 'Cinderella', 'salmonella']\n"
     ]
    }
   ],
   "source": [
    "#Q - 5. Capitalize the element in things that refers to a person and then print the list. Did it change the element in the list?\n",
    "#Answer:\n",
    "things = [\"mozzarella\", \"cinderella\", \"salmonella\"]\n",
    "for i in range(len(things)):\n",
    "    if \"cinder\" in things[i]:\n",
    "        things[i] = things[i].capitalize()\n",
    "        \n",
    "\n",
    "print(things)\n",
    "#Yes it has chnaged the list"
   ]
  },
  {
   "cell_type": "code",
   "execution_count": 17,
   "metadata": {},
   "outputs": [
    {
     "name": "stdout",
     "output_type": "stream",
     "text": [
      "['Groucho', 'Chico', 'Harpo']\n"
     ]
    }
   ],
   "source": [
    "#Q - 6. Make a surprise list with the elements \"Groucho\", \"Chico\" and \"Harpo\"\n",
    "surprise_list = [\"Groucho\", \"Chico\" , \"Harpo\"]\n",
    "print(surprise_list)"
   ]
  },
  {
   "cell_type": "code",
   "execution_count": 26,
   "metadata": {},
   "outputs": [
    {
     "name": "stdout",
     "output_type": "stream",
     "text": [
      "['Groucho', 'Chico', 'Oprah']\n"
     ]
    }
   ],
   "source": [
    "#Q - 7. Lowercase the last element of the surprise list, reverse it, and then capitalize it.\n",
    "#Answer:\n",
    "surprise_list = [\"Groucho\", \"Chico\" , \"Harpo\"]\n",
    "last_element = surprise_list[-1]\n",
    "last_element_rev = last_element[::-1]\n",
    "capitalize_element = last_element_rev.capitalize()\n",
    "surprise_list[-1] = capitalize_element\n",
    "print(surprise_list)\n"
   ]
  },
  {
   "cell_type": "code",
   "execution_count": 27,
   "metadata": {},
   "outputs": [
    {
     "name": "stdout",
     "output_type": "stream",
     "text": [
      "{'dog': 'chien', 'cat': 'chat', 'walrus': 'morse'}\n"
     ]
    }
   ],
   "source": [
    "#Q - 8. Make an English-to-French dictionary called e2f and print it. Here are your starter words: dog is chien, cat is chat, and walrus is morse.\n",
    "#Answer:\n",
    "e2f = {\n",
    "    'dog' : 'chien',\n",
    "    'cat' : 'chat',\n",
    "    'walrus' : 'morse'\n",
    "}\n",
    "print(e2f)"
   ]
  },
  {
   "cell_type": "code",
   "execution_count": 28,
   "metadata": {},
   "outputs": [
    {
     "name": "stdout",
     "output_type": "stream",
     "text": [
      "morse\n"
     ]
    }
   ],
   "source": [
    "#Q - 9. Write the French word for walrus in your three-word dictionary e2f.\n",
    "#Answer:\n",
    "#The french word for walrus is:\n",
    "print(e2f['walrus'])"
   ]
  },
  {
   "cell_type": "code",
   "execution_count": 29,
   "metadata": {},
   "outputs": [
    {
     "name": "stdout",
     "output_type": "stream",
     "text": [
      "{'chien': 'dog', 'chat': 'cat', 'morse': 'walrus'}\n"
     ]
    }
   ],
   "source": [
    "#Q - 10. Make a French-to-English dictionary called f2e from e2f. Use the items method.\n",
    "#Answer:\n",
    "e2f = {\n",
    "    'dog': 'chien',\n",
    "    'cat': 'chat',\n",
    "    'walrus': 'morse'\n",
    "}\n",
    "\n",
    "f2e = {value: key for key, value in e2f.items()}\n",
    "\n",
    "print(f2e)"
   ]
  },
  {
   "cell_type": "code",
   "execution_count": 30,
   "metadata": {},
   "outputs": [
    {
     "name": "stdout",
     "output_type": "stream",
     "text": [
      "English version of french word:  dog\n"
     ]
    }
   ],
   "source": [
    "#Q - 11. Print the English version of the French word chien using f2e.\n",
    "#Answer:\n",
    "f2e = {'chien': 'dog', \n",
    "'chat': 'cat', \n",
    "'morse': 'walrus'}\n",
    "print(\"English version of french word: \", f2e['chien'])"
   ]
  },
  {
   "cell_type": "code",
   "execution_count": 33,
   "metadata": {},
   "outputs": [
    {
     "name": "stdout",
     "output_type": "stream",
     "text": [
      "{'cat', 'dog', 'walrus'}\n"
     ]
    }
   ],
   "source": [
    "#Q - 12. Make and print a set of English words from the keys in e2f.\n",
    "#Answer:\n",
    "e2f = {\n",
    "    'dog': 'chien',\n",
    "    'cat': 'chat',\n",
    "    'walrus': 'morse'\n",
    "}\n",
    "set_of_english_words = set(e2f.keys())\n",
    "print(set_of_english_words)"
   ]
  },
  {
   "cell_type": "code",
   "execution_count": null,
   "metadata": {},
   "outputs": [],
   "source": [
    "#Q - 13. Make a multilevel dictionary called life. Use these strings for the topmost keys: &#39;animals&#39;, &#39;plants&#39;,\n",
    "# and &#39;other&#39;. Make the &#39;animals&#39; key refer to another dictionary with the keys &#39;cats&#39;, &#39;octopi&#39;, and\n",
    "# &#39;emus&#39;. Make the &#39;cats&#39; key refer to a list of strings with the values &#39;Henri&#39;, &#39;Grumpy&#39;, and &#39;Lucy&#39;.\n",
    "# Make all the other keys refer to empty dictionaries.\n",
    "#Answer:\n",
    "life = {\"animals\":{\"cat\":['Henri','Grumpy', 'Lucy'] , \"octi\":{} , \"emus\":{} } , \"plants\":{} , \"other\":{} }"
   ]
  },
  {
   "cell_type": "code",
   "execution_count": 34,
   "metadata": {},
   "outputs": [
    {
     "name": "stdout",
     "output_type": "stream",
     "text": [
      "dict_keys(['animals', 'plants', 'other'])\n"
     ]
    }
   ],
   "source": [
    "#Q - 14. Print the top-level keys of life.\n",
    "#Answer:\n",
    "life = {\"animals\":{\"cat\":['Henri','Grumpy', 'Lucy'] , \"octi\":{} , \"emus\":{} } , \"plants\":{} , \"other\":{} }\n",
    "top_level_keys = life.keys()\n",
    "print(top_level_keys)"
   ]
  },
  {
   "cell_type": "code",
   "execution_count": 35,
   "metadata": {},
   "outputs": [
    {
     "name": "stdout",
     "output_type": "stream",
     "text": [
      "dict_keys(['cat', 'octi', 'emus'])\n"
     ]
    }
   ],
   "source": [
    "#Q - 15. Print the keys for life['animals']\n",
    "#Answer:\n",
    "#To print the keys for life['animals']:\n",
    "life = {\"animals\":{\"cat\":['Henri','Grumpy', 'Lucy'] , \"octi\":{} , \"emus\":{} } , \"plants\":{} , \"other\":{} }\n",
    "print(life['animals'].keys())"
   ]
  },
  {
   "cell_type": "code",
   "execution_count": 37,
   "metadata": {},
   "outputs": [
    {
     "name": "stdout",
     "output_type": "stream",
     "text": [
      "['Henri', 'Grumpy', 'Lucy']\n"
     ]
    }
   ],
   "source": [
    "#Q - 16. Print the values for life['animals']['cat']\n",
    "#Answer:\n",
    "life = {\"animals\":{\"cat\":['Henri','Grumpy', 'Lucy'] , \"octi\":{} , \"emus\":{} } , \"plants\":{} , \"other\":{} }\n",
    "print(life['animals']['cat'])"
   ]
  },
  {
   "cell_type": "code",
   "execution_count": null,
   "metadata": {},
   "outputs": [],
   "source": []
  }
 ],
 "metadata": {
  "kernelspec": {
   "display_name": "Python 3.9.6 64-bit",
   "language": "python",
   "name": "python3"
  },
  "language_info": {
   "codemirror_mode": {
    "name": "ipython",
    "version": 3
   },
   "file_extension": ".py",
   "mimetype": "text/x-python",
   "name": "python",
   "nbconvert_exporter": "python",
   "pygments_lexer": "ipython3",
   "version": "3.9.6"
  },
  "orig_nbformat": 4,
  "vscode": {
   "interpreter": {
    "hash": "31f2aee4e71d21fbe5cf8b01ff0e069b9275f58929596ceb00d14d90e3e16cd6"
   }
  }
 },
 "nbformat": 4,
 "nbformat_minor": 2
}
